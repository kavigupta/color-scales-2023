{
 "cells": [
  {
   "cell_type": "code",
   "execution_count": 1,
   "id": "125dfecd",
   "metadata": {},
   "outputs": [],
   "source": [
    "%load_ext autoreload\n",
    "%autoreload 2"
   ]
  },
  {
   "cell_type": "code",
   "execution_count": 2,
   "id": "a679b612",
   "metadata": {},
   "outputs": [],
   "source": [
    "from color_scales.extra_ramp import add_extra_to_all\n",
    "from color_scales.utils import to_rgb_ramps, to_rgb_ramp\n",
    "from color_scales.proposals import proposals"
   ]
  },
  {
   "cell_type": "code",
   "execution_count": 3,
   "id": "f02422b7",
   "metadata": {},
   "outputs": [
    {
     "data": {
      "text/plain": [
       "{'current_pres': ['dem',\n",
       "  'gop',\n",
       "  'green_1912_progressive',\n",
       "  'green_1924_progressive',\n",
       "  'orange',\n",
       "  'yellow'],\n",
       " 'current_down': ['dem',\n",
       "  'gop',\n",
       "  'green',\n",
       "  'orange_socialist',\n",
       "  'orange_republican',\n",
       "  'yellow',\n",
       "  'cyan_dem',\n",
       "  'magenta'],\n",
       " 'prop_2022': ['dem', 'gop', 'green', 'orange', 'purple', 'yellow'],\n",
       " 'prop_2023': ['dem_220',\n",
       "  'gop_2',\n",
       "  'green_134',\n",
       "  'orange_32',\n",
       "  'purple_280',\n",
       "  'yellow_48',\n",
       "  'orange_25',\n",
       "  'green_90',\n",
       "  'green_160',\n",
       "  'cyan_180',\n",
       "  'dem_210',\n",
       "  'dem_230',\n",
       "  'dem_240',\n",
       "  'magenta_300',\n",
       "  'magenta_336']}"
      ]
     },
     "execution_count": 3,
     "metadata": {},
     "output_type": "execute_result"
    }
   ],
   "source": [
    "{k : list(v) for k, v in proposals.items()}"
   ]
  },
  {
   "cell_type": "code",
   "execution_count": 28,
   "id": "e003f0e0",
   "metadata": {},
   "outputs": [],
   "source": [
    "from color_scales.render_svg import produce_outputs, random_map"
   ]
  },
  {
   "cell_type": "code",
   "execution_count": 5,
   "id": "40b79be9",
   "metadata": {},
   "outputs": [],
   "source": [
    "produce_outputs(\"dem\", \"gop\", \"green\")"
   ]
  },
  {
   "cell_type": "code",
   "execution_count": 6,
   "id": "62712d0e",
   "metadata": {},
   "outputs": [],
   "source": [
    "produce_outputs(\"dem\", \"orange\", \"green\")"
   ]
  },
  {
   "cell_type": "code",
   "execution_count": 7,
   "id": "d1469468",
   "metadata": {},
   "outputs": [],
   "source": [
    "produce_outputs(\"green\", \"dem\", \"gop\")"
   ]
  },
  {
   "cell_type": "code",
   "execution_count": 8,
   "id": "299ee6bb",
   "metadata": {},
   "outputs": [],
   "source": [
    "produce_outputs(\"green\", \"gop\", \"dem\")"
   ]
  },
  {
   "cell_type": "code",
   "execution_count": 9,
   "id": "2d276e23",
   "metadata": {},
   "outputs": [],
   "source": [
    "produce_outputs(\"gop\", \"purple\", \"green\")"
   ]
  },
  {
   "cell_type": "code",
   "execution_count": 10,
   "id": "f4782145",
   "metadata": {},
   "outputs": [],
   "source": [
    "produce_outputs(\"dem\", \"magenta\", \"green\")"
   ]
  },
  {
   "cell_type": "code",
   "execution_count": 11,
   "id": "806f63db",
   "metadata": {},
   "outputs": [],
   "source": [
    "produce_outputs(\"cyan\", \"orange\", \"green\")"
   ]
  },
  {
   "cell_type": "code",
   "execution_count": 12,
   "id": "6973e7e2",
   "metadata": {},
   "outputs": [],
   "source": [
    "produce_outputs(\"yellow\", \"dem\", \"green\")"
   ]
  },
  {
   "cell_type": "code",
   "execution_count": 13,
   "id": "59dc6963",
   "metadata": {},
   "outputs": [],
   "source": [
    "produce_outputs(\"dem\", \"gop\", \"orange\")"
   ]
  },
  {
   "cell_type": "code",
   "execution_count": 32,
   "id": "cf0b4ba4",
   "metadata": {},
   "outputs": [],
   "source": [
    "for seed in range(100):\n",
    "    random_map(seed)"
   ]
  }
 ],
 "metadata": {
  "kernelspec": {
   "display_name": "Python 3 (ipykernel)",
   "language": "python",
   "name": "python3"
  },
  "language_info": {
   "codemirror_mode": {
    "name": "ipython",
    "version": 3
   },
   "file_extension": ".py",
   "mimetype": "text/x-python",
   "name": "python",
   "nbconvert_exporter": "python",
   "pygments_lexer": "ipython3",
   "version": "3.9.7"
  }
 },
 "nbformat": 4,
 "nbformat_minor": 5
}
